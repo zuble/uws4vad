{
 "cells": [
  {
   "cell_type": "code",
   "execution_count": null,
   "metadata": {},
   "outputs": [],
   "source": [
    "with open(\"xdv.txt\", 'r') as file: lines = file.readlines()\n",
    "\n",
    "lines = [line.replace(\"_x264\", \"\") for line in lines]\n",
    "print(lines)\n",
    "with open(\"xdv-soirt.txt\", 'w') as file: file.writelines(lines)\n"
   ]
  },
  {
   "cell_type": "code",
   "execution_count": null,
   "metadata": {},
   "outputs": [],
   "source": [
    "import glob, cv2, os.path as osp\n",
    "ps = glob.glob(cfg.dl.ds.info.vroot+\"/*\")       \n",
    "\n",
    "with open(cfg.path.work_dir+\"/ucf_tframes.txt\", 'w') as file:\n",
    "    for p in ps:\n",
    "        tmp_cv = cv2.VideoCapture( p )\n",
    "        nframes = int(tmp_cv.get(cv2.CAP_PROP_FRAME_COUNT))\n",
    "        tmp_cv.release()\n",
    "        file.write(f\"{osp.basename(p)}@{nframes}\\n\")\n",
    "\n",
    "        "
   ]
  }
 ],
 "metadata": {
  "kernelspec": {
   "display_name": "zutc0",
   "language": "python",
   "name": "python3"
  },
  "language_info": {
   "codemirror_mode": {
    "name": "ipython",
    "version": 3
   },
   "file_extension": ".py",
   "mimetype": "text/x-python",
   "name": "python",
   "nbconvert_exporter": "python",
   "pygments_lexer": "ipython3",
   "version": "3.9.12"
  }
 },
 "nbformat": 4,
 "nbformat_minor": 2
}
